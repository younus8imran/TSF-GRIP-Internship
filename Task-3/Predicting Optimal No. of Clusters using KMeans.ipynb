{
  "nbformat": 4,
  "nbformat_minor": 0,
  "metadata": {
    "colab": {
      "name": "Task-3 Predicting  Optimal No. of Clusters using KMeans.ipynb",
      "provenance": [],
      "authorship_tag": "ABX9TyO5yMI57Du8Ob490Rghp34y",
      "include_colab_link": true
    },
    "kernelspec": {
      "name": "python3",
      "display_name": "Python 3"
    }
  },
  "cells": [
    {
      "cell_type": "markdown",
      "metadata": {
        "id": "view-in-github",
        "colab_type": "text"
      },
      "source": [
        "<a href=\"https://colab.research.google.com/github/younus8imran/TSF-GRIP-Internship/blob/master/Task-3%20Predicting%20Optimal%20No.%20of%20Clusters%20using%20KMeans.ipynb\" target=\"_parent\"><img src=\"https://colab.research.google.com/assets/colab-badge.svg\" alt=\"Open In Colab\"/></a>"
      ]
    },
    {
      "cell_type": "markdown",
      "metadata": {
        "id": "WPJ4On8Jqk14",
        "colab_type": "text"
      },
      "source": [
        "#<font color='Aqua'>**K-Means Clustering**</font>"
      ]
    },
    {
      "cell_type": "markdown",
      "metadata": {
        "id": "graonmHZq8hL",
        "colab_type": "text"
      },
      "source": [
        "<font color=\"DarkOrange\">In this task we'll explore K-Means Algorithm to predict Optimum number of Clusters and represent it Visually</font>"
      ]
    },
    {
      "cell_type": "markdown",
      "metadata": {
        "id": "2M5ItrNOtoQK",
        "colab_type": "text"
      },
      "source": [
        "<font color='DarkOrange'>K-Means algorithm searches for a pre-determined number of clusters within an unlabeled multidimensional dataset\n"
      ]
    },
    {
      "cell_type": "markdown",
      "metadata": {
        "id": "wMHE0o4Mzcil",
        "colab_type": "text"
      },
      "source": [
        "#### <font color='Yellow'>**Let's import all the necessary libraries**</font>"
      ]
    },
    {
      "cell_type": "code",
      "metadata": {
        "id": "Xfv9AKs-z5_i",
        "colab_type": "code",
        "colab": {}
      },
      "source": [
        "import numpy as np\n",
        "import pandas as pd\n",
        "import seaborn as sns\n",
        "import matplotlib.pyplot as plt\n",
        "\n",
        "from sklearn.cluster import KMeans\n",
        "from sklearn.datasets import load_iris\n",
        "\n",
        "%matplotlib inline"
      ],
      "execution_count": 15,
      "outputs": []
    },
    {
      "cell_type": "markdown",
      "metadata": {
        "id": "-ldsvliL08_6",
        "colab_type": "text"
      },
      "source": [
        "#### <font color='Yellow'>**We'll load the iris Dataset**</font>"
      ]
    },
    {
      "cell_type": "code",
      "metadata": {
        "id": "_KBBBzHt07zn",
        "colab_type": "code",
        "colab": {}
      },
      "source": [
        "iris = load_iris()\n",
        "iris_data = pd.DataFrame(iris.data, columns = iris.feature_names)\n",
        "\n",
        "X = iris.data\n",
        "y = iris.target"
      ],
      "execution_count": 16,
      "outputs": []
    },
    {
      "cell_type": "markdown",
      "metadata": {
        "id": "U6Vf2mft4NAH",
        "colab_type": "text"
      },
      "source": [
        "#### <font color='Yellow'> **Let's have a look at the Dataset**</font>\n",
        "\n",
        "> Indented block\n",
        "\n"
      ]
    },
    {
      "cell_type": "code",
      "metadata": {
        "id": "gKh9zgiK2tlI",
        "colab_type": "code",
        "colab": {
          "base_uri": "https://localhost:8080/",
          "height": 204
        },
        "outputId": "540e4083-3da7-4b60-c643-50f821946903"
      },
      "source": [
        "iris_data.sample(5)"
      ],
      "execution_count": 17,
      "outputs": [
        {
          "output_type": "execute_result",
          "data": {
            "text/html": [
              "<div>\n",
              "<style scoped>\n",
              "    .dataframe tbody tr th:only-of-type {\n",
              "        vertical-align: middle;\n",
              "    }\n",
              "\n",
              "    .dataframe tbody tr th {\n",
              "        vertical-align: top;\n",
              "    }\n",
              "\n",
              "    .dataframe thead th {\n",
              "        text-align: right;\n",
              "    }\n",
              "</style>\n",
              "<table border=\"1\" class=\"dataframe\">\n",
              "  <thead>\n",
              "    <tr style=\"text-align: right;\">\n",
              "      <th></th>\n",
              "      <th>sepal length (cm)</th>\n",
              "      <th>sepal width (cm)</th>\n",
              "      <th>petal length (cm)</th>\n",
              "      <th>petal width (cm)</th>\n",
              "    </tr>\n",
              "  </thead>\n",
              "  <tbody>\n",
              "    <tr>\n",
              "      <th>100</th>\n",
              "      <td>6.3</td>\n",
              "      <td>3.3</td>\n",
              "      <td>6.0</td>\n",
              "      <td>2.5</td>\n",
              "    </tr>\n",
              "    <tr>\n",
              "      <th>58</th>\n",
              "      <td>6.6</td>\n",
              "      <td>2.9</td>\n",
              "      <td>4.6</td>\n",
              "      <td>1.3</td>\n",
              "    </tr>\n",
              "    <tr>\n",
              "      <th>128</th>\n",
              "      <td>6.4</td>\n",
              "      <td>2.8</td>\n",
              "      <td>5.6</td>\n",
              "      <td>2.1</td>\n",
              "    </tr>\n",
              "    <tr>\n",
              "      <th>13</th>\n",
              "      <td>4.3</td>\n",
              "      <td>3.0</td>\n",
              "      <td>1.1</td>\n",
              "      <td>0.1</td>\n",
              "    </tr>\n",
              "    <tr>\n",
              "      <th>149</th>\n",
              "      <td>5.9</td>\n",
              "      <td>3.0</td>\n",
              "      <td>5.1</td>\n",
              "      <td>1.8</td>\n",
              "    </tr>\n",
              "  </tbody>\n",
              "</table>\n",
              "</div>"
            ],
            "text/plain": [
              "     sepal length (cm)  sepal width (cm)  petal length (cm)  petal width (cm)\n",
              "100                6.3               3.3                6.0               2.5\n",
              "58                 6.6               2.9                4.6               1.3\n",
              "128                6.4               2.8                5.6               2.1\n",
              "13                 4.3               3.0                1.1               0.1\n",
              "149                5.9               3.0                5.1               1.8"
            ]
          },
          "metadata": {
            "tags": []
          },
          "execution_count": 17
        }
      ]
    },
    {
      "cell_type": "code",
      "metadata": {
        "id": "1zqxFDLlEK1C",
        "colab_type": "code",
        "colab": {
          "base_uri": "https://localhost:8080/",
          "height": 34
        },
        "outputId": "92fa8acf-8009-456d-ba69-a10ebca5347c"
      },
      "source": [
        "iris.target_names"
      ],
      "execution_count": 18,
      "outputs": [
        {
          "output_type": "execute_result",
          "data": {
            "text/plain": [
              "array(['setosa', 'versicolor', 'virginica'], dtype='<U10')"
            ]
          },
          "metadata": {
            "tags": []
          },
          "execution_count": 18
        }
      ]
    },
    {
      "cell_type": "markdown",
      "metadata": {
        "id": "zhZViAH2wFvp",
        "colab_type": "text"
      },
      "source": [
        "#### <font color='Yellow'> **Let's find the optimum number of clusters**</font>"
      ]
    },
    {
      "cell_type": "code",
      "metadata": {
        "id": "sPVqXH1m24Th",
        "colab_type": "code",
        "colab": {}
      },
      "source": [
        "wcss = []\n",
        "K = range(1, 11)\n",
        "\n",
        "for k in K:\n",
        "    km_model = KMeans(n_clusters = k, init = 'k-means++', \n",
        "                    max_iter = 300, n_init = 10, random_state = 0)\n",
        "    km_model.fit(X)\n",
        "    wcss.append(km_model.inertia_)"
      ],
      "execution_count": 19,
      "outputs": []
    },
    {
      "cell_type": "markdown",
      "metadata": {
        "id": "zQlOfXItwyCE",
        "colab_type": "text"
      },
      "source": [
        ""
      ]
    },
    {
      "cell_type": "code",
      "metadata": {
        "id": "BpSGECCOqGoQ",
        "colab_type": "code",
        "colab": {
          "base_uri": "https://localhost:8080/",
          "height": 34
        },
        "outputId": "eca69ef7-ff99-4a69-d8db-4e38998b542e"
      },
      "source": [
        "km_model.cluster_centers_.shape"
      ],
      "execution_count": 20,
      "outputs": [
        {
          "output_type": "execute_result",
          "data": {
            "text/plain": [
              "(10, 4)"
            ]
          },
          "metadata": {
            "tags": []
          },
          "execution_count": 20
        }
      ]
    },
    {
      "cell_type": "code",
      "metadata": {
        "id": "rh7o6l4Uvqrw",
        "colab_type": "code",
        "colab": {
          "base_uri": "https://localhost:8080/",
          "height": 136
        },
        "outputId": "9671696d-8aa7-47cd-8043-a0d627db234e"
      },
      "source": [
        "km_model.labels_"
      ],
      "execution_count": 21,
      "outputs": [
        {
          "output_type": "execute_result",
          "data": {
            "text/plain": [
              "array([0, 0, 0, 0, 0, 5, 0, 0, 0, 0, 5, 0, 0, 0, 5, 5, 5, 0, 5, 5, 5, 5,\n",
              "       0, 0, 0, 0, 0, 5, 0, 0, 0, 5, 5, 5, 0, 0, 5, 0, 0, 0, 0, 0, 0, 0,\n",
              "       5, 0, 5, 0, 5, 0, 8, 8, 8, 9, 8, 3, 8, 7, 8, 9, 7, 3, 9, 3, 9, 8,\n",
              "       3, 9, 3, 9, 1, 3, 1, 3, 3, 8, 8, 8, 3, 9, 9, 9, 9, 1, 3, 3, 8, 3,\n",
              "       9, 9, 9, 3, 9, 7, 9, 3, 3, 3, 7, 9, 4, 1, 6, 4, 4, 2, 9, 6, 6, 2,\n",
              "       4, 1, 4, 1, 1, 4, 4, 2, 2, 1, 4, 1, 2, 1, 4, 6, 1, 1, 4, 6, 6, 2,\n",
              "       4, 1, 1, 2, 4, 4, 1, 4, 4, 4, 1, 4, 4, 4, 1, 4, 4, 1], dtype=int32)"
            ]
          },
          "metadata": {
            "tags": []
          },
          "execution_count": 21
        }
      ]
    },
    {
      "cell_type": "markdown",
      "metadata": {
        "id": "xaRJg2vpxIwz",
        "colab_type": "text"
      },
      "source": [
        "<font color='DarkOrange'>We'll be using elbow method to find the optimal value of k, let's plot the results onto a line graph to observe the elbow</font>"
      ]
    },
    {
      "cell_type": "code",
      "metadata": {
        "id": "gJEwADub8hvh",
        "colab_type": "code",
        "colab": {
          "base_uri": "https://localhost:8080/",
          "height": 575
        },
        "outputId": "a3110708-322b-4cc2-def0-e5d806c96242"
      },
      "source": [
        "plt.figure(figsize=(9, 9))\n",
        "plt.plot(K, wcss, 'bx-')\n",
        "plt.title('The elbow method showing the optimal k')\n",
        "plt.xlabel('Number of clusters', fontsize=18)\n",
        "plt.ylabel('WCSS', fontsize=18) # Within cluster sum of squares\n",
        "plt.show()"
      ],
      "execution_count": 22,
      "outputs": [
        {
          "output_type": "display_data",
          "data": {
            "image/png": "[encoded data removed]",
            "text/plain": [
              "<Figure size 648x648 with 1 Axes>"
            ]
          },
          "metadata": {
            "tags": [],
            "needs_background": "light"
          }
        }
      ]
    },
    {
      "cell_type": "markdown",
      "metadata": {
        "id": "DCavuAPHyMxQ",
        "colab_type": "text"
      },
      "source": [
        "<font color='DarkOrange'>In the above plot, we can see there's an elbow created between k=2 and k=4, so, we choose the value of k=3</font>"
      ]
    },
    {
      "cell_type": "code",
      "metadata": {
        "id": "jRm_0Zmx8sRK",
        "colab_type": "code",
        "colab": {
          "base_uri": "https://localhost:8080/",
          "height": 187
        },
        "outputId": "a5848519-b2d6-47ad-d9e9-fae1db66a5c4"
      },
      "source": [
        "wcss"
      ],
      "execution_count": 23,
      "outputs": [
        {
          "output_type": "execute_result",
          "data": {
            "text/plain": [
              "[681.3706,\n",
              " 152.34795176035792,\n",
              " 78.85144142614601,\n",
              " 57.25600931571815,\n",
              " 46.44618205128205,\n",
              " 39.03998724608725,\n",
              " 34.299712121212124,\n",
              " 30.014398496240602,\n",
              " 28.036906353450473,\n",
              " 26.53452922077922]"
            ]
          },
          "metadata": {
            "tags": []
          },
          "execution_count": 23
        }
      ]
    },
    {
      "cell_type": "markdown",
      "metadata": {
        "id": "eNzzY1z9zO91",
        "colab_type": "text"
      },
      "source": [
        "<font color='DarkOrange'>Now, that we've got the value of k, let's apply the k-means to the dataset and create predictions"
      ]
    },
    {
      "cell_type": "code",
      "metadata": {
        "id": "RovPmsUa88Mq",
        "colab_type": "code",
        "colab": {
          "base_uri": "https://localhost:8080/",
          "height": 136
        },
        "outputId": "41e47c21-4676-486d-c046-20c35ca46ffe"
      },
      "source": [
        "kmeans = KMeans(n_clusters = 3, init = 'k-means++',\n",
        "                max_iter = 300, n_init = 10, random_state = 0)\n",
        "y_kmeans = kmeans.fit_predict(X)\n",
        "y_kmeans"
      ],
      "execution_count": 24,
      "outputs": [
        {
          "output_type": "execute_result",
          "data": {
            "text/plain": [
              "array([1, 1, 1, 1, 1, 1, 1, 1, 1, 1, 1, 1, 1, 1, 1, 1, 1, 1, 1, 1, 1, 1,\n",
              "       1, 1, 1, 1, 1, 1, 1, 1, 1, 1, 1, 1, 1, 1, 1, 1, 1, 1, 1, 1, 1, 1,\n",
              "       1, 1, 1, 1, 1, 1, 2, 2, 0, 2, 2, 2, 2, 2, 2, 2, 2, 2, 2, 2, 2, 2,\n",
              "       2, 2, 2, 2, 2, 2, 2, 2, 2, 2, 2, 0, 2, 2, 2, 2, 2, 2, 2, 2, 2, 2,\n",
              "       2, 2, 2, 2, 2, 2, 2, 2, 2, 2, 2, 2, 0, 2, 0, 0, 0, 0, 2, 0, 0, 0,\n",
              "       0, 0, 0, 2, 2, 0, 0, 0, 0, 2, 0, 2, 0, 2, 0, 0, 2, 2, 0, 0, 0, 0,\n",
              "       0, 2, 0, 0, 0, 0, 2, 0, 0, 0, 2, 0, 0, 0, 2, 0, 0, 2], dtype=int32)"
            ]
          },
          "metadata": {
            "tags": []
          },
          "execution_count": 24
        }
      ]
    },
    {
      "cell_type": "markdown",
      "metadata": {
        "id": "YdqziQ_tz3ke",
        "colab_type": "text"
      },
      "source": [
        "<font color='DarkOrange'>Finally, let's visualize the clusters and cluster centers on the first two columns"
      ]
    },
    {
      "cell_type": "code",
      "metadata": {
        "id": "w211Tuz5-LX5",
        "colab_type": "code",
        "colab": {
          "base_uri": "https://localhost:8080/",
          "height": 537
        },
        "outputId": "54674c56-cb84-465d-fa4a-03a017798a53"
      },
      "source": [
        "# Visualising the clusters - On the first two columns\n",
        "plt.figure(figsize=(9, 9))\n",
        "plt.scatter(X[y_kmeans == 0, 0], X[y_kmeans == 0, 1], \n",
        "            s = 100, c = 'red', label = 'Iris-setosa', cmap='viridis')\n",
        "plt.scatter(X[y_kmeans == 1, 0], X[y_kmeans == 1, 1], \n",
        "            s = 100, c = 'blue', label = 'Iris-versicolour', cmap='viridis')\n",
        "plt.scatter(X[y_kmeans == 2, 0], X[y_kmeans == 2, 1],\n",
        "            s = 100, c = 'green', label = 'Iris-virginica', cmap='viridis')\n",
        "\n",
        "# Plotting the centroids of the clusters\n",
        "plt.scatter(kmeans.cluster_centers_[:, 0], kmeans.cluster_centers_[:,1], \n",
        "            s = 100, c = 'yellow', label = 'Centroids', cmap='viridis')\n",
        "\n",
        "plt.legend(fontsize=12)\n",
        "plt.show()\n"
      ],
      "execution_count": 26,
      "outputs": [
        {
          "output_type": "display_data",
          "data": {
            "image/png": "[encoded data removed]",
            "text/plain": [
              "<Figure size 648x648 with 1 Axes>"
            ]
          },
          "metadata": {
            "tags": [],
            "needs_background": "light"
          }
        }
      ]
    }
  ]
}